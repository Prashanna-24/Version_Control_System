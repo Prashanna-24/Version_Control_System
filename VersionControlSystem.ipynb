{
 "cells": [
  {
   "cell_type": "markdown",
   "metadata": {
    "id": "o0HvfEk_uKQq"
   },
   "source": [
    "*code review*"
   ]
  },
  {
   "cell_type": "code",
   "execution_count": 1,
   "metadata": {
    "id": "yt7PJK7luKQr"
   },
   "outputs": [],
   "source": [
    "import hashlib\n",
    "import time\n",
    "import random\n",
    "def hash_file(file_path):\n",
    "    # Open the file in binary mode\n",
    "    with open(file_path, \"rb\") as file:\n",
    "        # Read the entire file content\n",
    "        file_content = file.read()\n",
    "        # Calculate the SHA-256 hash of the file content\n",
    "        hash_value = hashlib.sha256(file_content).hexdigest()\n",
    "    return hash_value\n",
    "\n",
    "def branchit(main,name):\n",
    "    accesscode=str(input(print(\"enter your team member access code: \")))\n",
    "    if accesscode!=main.teammateaccesscode:\n",
    "        print(\"unauthorised\")\n",
    "        return\n",
    "\n",
    "\n",
    "    fs = MainBranch(name,main.admin,main.team)\n",
    "    s=str(input(print(\"do you want to clone the main branch? Y/N\")))\n",
    "    if s=='Y':\n",
    "\n",
    "        print(\"cloning the main branch\")\n",
    "        for files in main.files:\n",
    "            fs.add(files)\n",
    "\n",
    "\n",
    "\n",
    "    print(\"branch \"+name+\" created on main branch \"+main.name)\n",
    "\n",
    "\n",
    "\n",
    "\n",
    "    head=main.gethead()\n",
    "    head.branch=fs\n",
    "    return fs\n",
    "def mergeit(main,branch):\n",
    "    m=main.files\n",
    "    b=branch.files\n",
    "    s=str(input(print(\"do you want to merge the branches as admin? Y/N\")))\n",
    "    if s=='Y':\n",
    "        accesscode=str(input(print(\"enter your admin access code: \")))\n",
    "        if accesscode!=main.admincode:\n",
    "            return\n",
    "            print(\"unauthorised\")\n",
    "\n",
    "\n",
    "        main.commit()\n",
    "        for file in b:\n",
    "            if file not in m:\n",
    "                main.add(file)\n",
    "        main.commit()\n",
    "    head=main.gethead()\n",
    "    head.branch=None\n",
    "    print(\"branch \"+branch.name+\" merged to main \"+main.name+\" and commited\")\n",
    "\n",
    "\n",
    "class Node:\n",
    "    def __init__(self, key=None,directory=0):\n",
    "        self.key = key\n",
    "        if directory==1:\n",
    "            self.hash=self.key\n",
    "        if key is not None and directory!=1:\n",
    "            self.hash = hash_file(key)\n",
    "\n",
    "        self.parent = None\n",
    "        self.rc = None\n",
    "        self.lc = None\n",
    "        self.directory=directory\n",
    "\n",
    "\n",
    "    def hashit(self, rc, lc):\n",
    "        self.key = None\n",
    "        self.rc = rc\n",
    "        self.lc = lc\n",
    "        if rc==None and lc!=None:\n",
    "            k=lc.hash\n",
    "        elif rc!=None and lc==None:\n",
    "            k=rc.hash\n",
    "        elif rc is None and lc is None:\n",
    "            self.hash=None\n",
    "            return\n",
    "        else:\n",
    "            k = rc.hash + lc.hash\n",
    "        self.hash = hashlib.sha256(k.encode('utf-8')).hexdigest()\n",
    "\n",
    "class MerkleTree:\n",
    "    def __init__(self):\n",
    "        self.root = None\n",
    "        self.files=[]\n",
    "  #not used\n",
    "    def build_tree(self, files):\n",
    "        if not files:\n",
    "            return None\n",
    "\n",
    "        leaf_nodes = [Node(file_name) for file_name in files]\n",
    "        while len(leaf_nodes) > 1:\n",
    "            parents = []\n",
    "            for i in range(0, len(leaf_nodes), 2):\n",
    "                left_child = leaf_nodes[i]\n",
    "                right_child = leaf_nodes[i + 1] if i + 1 < len(leaf_nodes) else None\n",
    "                parent = Node()\n",
    "                parent.hashit(left_child, right_child)\n",
    "                left_child.parent = parent\n",
    "                if right_child:\n",
    "                    right_child.parent = parent\n",
    "                parents.append(parent)\n",
    "            leaf_nodes = parents\n",
    "\n",
    "        self.root = leaf_nodes[0]\n",
    "\n",
    "    def add_file(self, file_name,d=0):\n",
    "        if d==0:\n",
    "            print(\"file \"+file_name+\" added\")\n",
    "\n",
    "        self.files.append(file_name)\n",
    "        new_node = Node(file_name,d)\n",
    "        if self.root is None:\n",
    "            self.root=new_node\n",
    "            return\n",
    "\n",
    "\n",
    "        parent = self.root.parent\n",
    "        # if parent:\n",
    "        #     new_node.parent = parent\n",
    "        #     parent.rc = new_node\n",
    "        #     self.root.parent = None\n",
    "        #     self.root = new_node\n",
    "        #     # Recalculate hashes\n",
    "        #     while parent:\n",
    "        #         parent.hashit(parent.lc, parent.rc)\n",
    "        #         parent = parent.parent\n",
    "        # else:\n",
    "        parent = Node()\n",
    "        parent.hashit(self.root, new_node)\n",
    "        self.root.parent = parent\n",
    "        new_node.parent = parent\n",
    "        parent.rc = new_node\n",
    "        self.root = parent\n",
    "\n",
    "    def delete_file(self, file_name):\n",
    "        print(\"file \"+str(file_name)+\" removed\")\n",
    "\n",
    "        self.files.remove(file_name)\n",
    "        node_to_delete = self.find_node(file_name)\n",
    "        if not node_to_delete:\n",
    "            print(\"file \"+str(file_name)+\" not found\")\n",
    "            return  # File not found\n",
    "\n",
    "        parent = node_to_delete.parent\n",
    "        if parent:\n",
    "            if parent.lc == node_to_delete:\n",
    "                parent.lc = None\n",
    "            else:\n",
    "                parent.rc = None\n",
    "\n",
    "            # Recalculate hashes\n",
    "            while parent:\n",
    "                parent.hashit(parent.lc, parent.rc)\n",
    "                parent = parent.parent\n",
    "        else:\n",
    "            self.root = None\n",
    "\n",
    "    def find_node(self, file_name):\n",
    "        if not self.root:\n",
    "            return None\n",
    "\n",
    "        q = [self.root]\n",
    "        while q:\n",
    "            current = q.pop(0)\n",
    "            if current.key == file_name:\n",
    "                return current\n",
    "            if current.lc:\n",
    "                q.append(current.lc)\n",
    "            if current.rc:\n",
    "                q.append(current.rc)\n",
    "        return None\n",
    "    def print_tree(self,root):\n",
    "        pass\n",
    "\n",
    "class nodell:\n",
    "    def __init__(self,value=None):\n",
    "        self.prev=None\n",
    "        self.value=value\n",
    "        self.next=None\n",
    "        self.branch=None\n",
    "class DLL:\n",
    "    def __init__(self):\n",
    "        self.head=nodell(None)\n",
    "        self.tail=self.head\n",
    "        self.length=0\n",
    "\n",
    "    def insertAtFirst(self,elem):\n",
    "        if self.length==0:\n",
    "            self.head.value=elem\n",
    "        else:\n",
    "            x=nodell(elem)\n",
    "            self.head.prev=x\n",
    "            x.next=self.head\n",
    "            self.head=x\n",
    "        self.length+=1\n",
    "\n",
    "\n",
    "\n",
    "    def deleteAtFirst(self):\n",
    "        if self.length==0:\n",
    "            print(\"UnderFlow\")\n",
    "        elif self.length==1:\n",
    "            self.head.value=None\n",
    "            self.length-=1\n",
    "        else:\n",
    "            self.length-=1\n",
    "            x=self.head.next\n",
    "            x.prev=None\n",
    "            self.head.next=None\n",
    "            self.head=x\n",
    "\n",
    "    def display(self):\n",
    "        x=self.head\n",
    "\n",
    "        for i in range(self.length):\n",
    "            print(\"commit \"+str(i+1)+\" root : \"+x.value.hash,end=\" \")\n",
    "            x=x.next\n",
    "        print(\"\")\n",
    "\n",
    "\n",
    "class MainBranch:\n",
    "    def __init__(self,name:str,admin,team):\n",
    "        self.files=[]\n",
    "        self.admin=admin\n",
    "        self.team=team\n",
    "        self.admincode=admin\n",
    "        self.teammateaccesscode= team\n",
    "        self.name=name\n",
    "        print(name+\" created\")\n",
    "        self.main=DLL()\n",
    "        self.historystack=[]\n",
    "        self.merkle_tree = MerkleTree()\n",
    "        self.merkle_tree.build_tree([])  # Initialize with an empty list of files\n",
    "    def showcommit(self):\n",
    "\n",
    "        self.main.display()\n",
    "    def add(self, file_name):\n",
    "\n",
    "\n",
    "        if isinstance(file_name, list):\n",
    "            print(\"directory is being added\")\n",
    "            self.directory = MerkleTree()\n",
    "            for i in file_name:\n",
    "                self.files.append(file_name)\n",
    "                self.directory.add_file(i)\n",
    "            self.merkle_tree.add_file(self.directory.root.hash,1)\n",
    "\n",
    "\n",
    "        else:\n",
    "            self.files.append(file_name)\n",
    "            self.merkle_tree.add_file(file_name)\n",
    "\n",
    "    def gethead(self):\n",
    "        return self.main.head\n",
    "\n",
    "    def showbranch(self):\n",
    "        return self.main.head.branch\n",
    "        pass\n",
    "\n",
    "    def commit(self):\n",
    "\n",
    "        msg=str(input(\"comments: \"))\n",
    "        print(\"branch \"+self.name+\" commited\")\n",
    "        self.main.insertAtFirst(self.merkle_tree.root)\n",
    "\n",
    "        self.historystack.append(msg)\n",
    "        self.merkle_tree = MerkleTree()\n",
    "    def revoke(self):\n",
    "        print(\"branch\"+self.name+\" revoked\")\n",
    "\n",
    "        self.main.deleteAtFirst()\n",
    "\n",
    "\n",
    "    def delete(self, file_name):\n",
    "        self.merkle_tree.delete_file(file_name)\n",
    "\n",
    "    # def tamper(self,old_file,new_file):\n",
    "    #     print(\"old root hash:\",self.merkle_tree.root.hash)\n",
    "    #     self.delete(old_file)\n",
    "    #     # Add the updated file\n",
    "    #     self.add(new_file)\n",
    "    #     print(\"new root hash:\",self.merkle_tree.root.hash)\n",
    "    def tamper(self, old_file, new_file):\n",
    "        # Generate a random challenge\n",
    "        challenge_key = random.randint(1,5)\n",
    "        print(f\"Complete this challenge to proceed: What is {challenge_key} + 3?\")\n",
    "\n",
    "        try:\n",
    "            response = int(input(\"Enter your response: \"))\n",
    "        except ValueError:\n",
    "            print(\"Invalid response. Tampering aborted.\")\n",
    "            return\n",
    "\n",
    "        if response != challenge_key + 3:\n",
    "            print(\"Incorrect response. Tampering aborted.\")\n",
    "            return\n",
    "\n",
    "        print(\"Challenge passed. Please wait...\")\n",
    "        time.sleep(2)\n",
    "\n",
    "        print(\"Tampering initiated...\")\n",
    "\n",
    "        if self.merkle_tree.root:\n",
    "            print(\"Old root hash:\", self.merkle_tree.root.hash)\n",
    "        else:\n",
    "            print(\"Old root hash: None\")\n",
    "\n",
    "        self.delete(old_file)\n",
    "\n",
    "        self.add(new_file)\n",
    "\n",
    "        if self.merkle_tree.root:\n",
    "            print(\"New root hash:\", self.merkle_tree.root.hash)\n",
    "        else:\n",
    "            print(\"New root hash: None\")\n",
    "\n",
    "        print(\"Tampering completed.\")\n",
    "\n",
    "    def history(self):\n",
    "        print(self.historystack)\n",
    "    def print_tree(self):\n",
    "        self.merkle_tree.print_tree(self.merkle_tree.root)\n",
    "    def getroot(self):\n",
    "        print(\"the root of the current node is : \"+str(self.merkle_tree.root.hash))\n",
    "    def getaccesscodes(self):\n",
    "        print(\"team access code: \"+str(self.teammateaccesscode)+\"\\n\"+\"admin access code: \"+self.admincode)"
   ]
  },
  {
   "cell_type": "markdown",
   "metadata": {
    "id": "qAv8QSC5uKQt"
   },
   "source": [
    "*driver part*"
   ]
  },
  {
   "cell_type": "markdown",
   "metadata": {
    "id": "r4ookTtDuKQu"
   },
   "source": [
    "*creating main branch and adding a file*"
   ]
  },
  {
   "cell_type": "code",
   "execution_count": 2,
   "metadata": {
    "colab": {
     "base_uri": "https://localhost:8080/"
    },
    "id": "PeouHp-iuKQu",
    "outputId": "1ac5b116-c396-4e26-fec0-a156932cb20e"
   },
   "outputs": [
    {
     "name": "stdout",
     "output_type": "stream",
     "text": [
      "guhan_branch created\n",
      "file example1.txt added\n"
     ]
    },
    {
     "ename": "FileNotFoundError",
     "evalue": "[Errno 2] No such file or directory: 'example1.txt'",
     "output_type": "error",
     "traceback": [
      "\u001b[1;31m---------------------------------------------------------------------------\u001b[0m",
      "\u001b[1;31mFileNotFoundError\u001b[0m                         Traceback (most recent call last)",
      "Cell \u001b[1;32mIn[2], line 2\u001b[0m\n\u001b[0;32m      1\u001b[0m main \u001b[38;5;241m=\u001b[39m MainBranch(\u001b[38;5;124m\"\u001b[39m\u001b[38;5;124mguhan_branch\u001b[39m\u001b[38;5;124m\"\u001b[39m,\u001b[38;5;124m\"\u001b[39m\u001b[38;5;124mguhanesh\u001b[39m\u001b[38;5;124m\"\u001b[39m,\u001b[38;5;124m\"\u001b[39m\u001b[38;5;124mdigital ninjas\u001b[39m\u001b[38;5;124m\"\u001b[39m)\n\u001b[1;32m----> 2\u001b[0m main\u001b[38;5;241m.\u001b[39madd(\u001b[38;5;124m\"\u001b[39m\u001b[38;5;124mexample1.txt\u001b[39m\u001b[38;5;124m\"\u001b[39m) \u001b[38;5;66;03m#/content/example1.txt\u001b[39;00m\n\u001b[0;32m      3\u001b[0m main\u001b[38;5;241m.\u001b[39madd(\u001b[38;5;124m\"\u001b[39m\u001b[38;5;124mexample2.txt\u001b[39m\u001b[38;5;124m\"\u001b[39m)\n",
      "Cell \u001b[1;32mIn[1], line 258\u001b[0m, in \u001b[0;36mMainBranch.add\u001b[1;34m(self, file_name)\u001b[0m\n\u001b[0;32m    256\u001b[0m \u001b[38;5;28;01melse\u001b[39;00m:\n\u001b[0;32m    257\u001b[0m     \u001b[38;5;28mself\u001b[39m\u001b[38;5;241m.\u001b[39mfiles\u001b[38;5;241m.\u001b[39mappend(file_name)\n\u001b[1;32m--> 258\u001b[0m     \u001b[38;5;28mself\u001b[39m\u001b[38;5;241m.\u001b[39mmerkle_tree\u001b[38;5;241m.\u001b[39madd_file(file_name)\n",
      "Cell \u001b[1;32mIn[1], line 118\u001b[0m, in \u001b[0;36mMerkleTree.add_file\u001b[1;34m(self, file_name, d)\u001b[0m\n\u001b[0;32m    115\u001b[0m     \u001b[38;5;28mprint\u001b[39m(\u001b[38;5;124m\"\u001b[39m\u001b[38;5;124mfile \u001b[39m\u001b[38;5;124m\"\u001b[39m\u001b[38;5;241m+\u001b[39mfile_name\u001b[38;5;241m+\u001b[39m\u001b[38;5;124m\"\u001b[39m\u001b[38;5;124m added\u001b[39m\u001b[38;5;124m\"\u001b[39m)\n\u001b[0;32m    117\u001b[0m \u001b[38;5;28mself\u001b[39m\u001b[38;5;241m.\u001b[39mfiles\u001b[38;5;241m.\u001b[39mappend(file_name)\n\u001b[1;32m--> 118\u001b[0m new_node \u001b[38;5;241m=\u001b[39m Node(file_name,d)\n\u001b[0;32m    119\u001b[0m \u001b[38;5;28;01mif\u001b[39;00m \u001b[38;5;28mself\u001b[39m\u001b[38;5;241m.\u001b[39mroot \u001b[38;5;129;01mis\u001b[39;00m \u001b[38;5;28;01mNone\u001b[39;00m:\n\u001b[0;32m    120\u001b[0m     \u001b[38;5;28mself\u001b[39m\u001b[38;5;241m.\u001b[39mroot\u001b[38;5;241m=\u001b[39mnew_node\n",
      "Cell \u001b[1;32mIn[1], line 65\u001b[0m, in \u001b[0;36mNode.__init__\u001b[1;34m(self, key, directory)\u001b[0m\n\u001b[0;32m     63\u001b[0m     \u001b[38;5;28mself\u001b[39m\u001b[38;5;241m.\u001b[39mhash\u001b[38;5;241m=\u001b[39m\u001b[38;5;28mself\u001b[39m\u001b[38;5;241m.\u001b[39mkey\n\u001b[0;32m     64\u001b[0m \u001b[38;5;28;01mif\u001b[39;00m key \u001b[38;5;129;01mis\u001b[39;00m \u001b[38;5;129;01mnot\u001b[39;00m \u001b[38;5;28;01mNone\u001b[39;00m \u001b[38;5;129;01mand\u001b[39;00m directory\u001b[38;5;241m!=\u001b[39m\u001b[38;5;241m1\u001b[39m:\n\u001b[1;32m---> 65\u001b[0m     \u001b[38;5;28mself\u001b[39m\u001b[38;5;241m.\u001b[39mhash \u001b[38;5;241m=\u001b[39m hash_file(key)\n\u001b[0;32m     67\u001b[0m \u001b[38;5;28mself\u001b[39m\u001b[38;5;241m.\u001b[39mparent \u001b[38;5;241m=\u001b[39m \u001b[38;5;28;01mNone\u001b[39;00m\n\u001b[0;32m     68\u001b[0m \u001b[38;5;28mself\u001b[39m\u001b[38;5;241m.\u001b[39mrc \u001b[38;5;241m=\u001b[39m \u001b[38;5;28;01mNone\u001b[39;00m\n",
      "Cell \u001b[1;32mIn[1], line 6\u001b[0m, in \u001b[0;36mhash_file\u001b[1;34m(file_path)\u001b[0m\n\u001b[0;32m      4\u001b[0m \u001b[38;5;28;01mdef\u001b[39;00m \u001b[38;5;21mhash_file\u001b[39m(file_path):\n\u001b[0;32m      5\u001b[0m     \u001b[38;5;66;03m# Open the file in binary mode\u001b[39;00m\n\u001b[1;32m----> 6\u001b[0m     \u001b[38;5;28;01mwith\u001b[39;00m \u001b[38;5;28mopen\u001b[39m(file_path, \u001b[38;5;124m\"\u001b[39m\u001b[38;5;124mrb\u001b[39m\u001b[38;5;124m\"\u001b[39m) \u001b[38;5;28;01mas\u001b[39;00m file:\n\u001b[0;32m      7\u001b[0m         \u001b[38;5;66;03m# Read the entire file content\u001b[39;00m\n\u001b[0;32m      8\u001b[0m         file_content \u001b[38;5;241m=\u001b[39m file\u001b[38;5;241m.\u001b[39mread()\n\u001b[0;32m      9\u001b[0m         \u001b[38;5;66;03m# Calculate the SHA-256 hash of the file content\u001b[39;00m\n",
      "File \u001b[1;32mC:\\Anaconda_Jupyter\\Lib\\site-packages\\IPython\\core\\interactiveshell.py:286\u001b[0m, in \u001b[0;36m_modified_open\u001b[1;34m(file, *args, **kwargs)\u001b[0m\n\u001b[0;32m    279\u001b[0m \u001b[38;5;28;01mif\u001b[39;00m file \u001b[38;5;129;01min\u001b[39;00m {\u001b[38;5;241m0\u001b[39m, \u001b[38;5;241m1\u001b[39m, \u001b[38;5;241m2\u001b[39m}:\n\u001b[0;32m    280\u001b[0m     \u001b[38;5;28;01mraise\u001b[39;00m \u001b[38;5;167;01mValueError\u001b[39;00m(\n\u001b[0;32m    281\u001b[0m         \u001b[38;5;124mf\u001b[39m\u001b[38;5;124m\"\u001b[39m\u001b[38;5;124mIPython won\u001b[39m\u001b[38;5;124m'\u001b[39m\u001b[38;5;124mt let you open fd=\u001b[39m\u001b[38;5;132;01m{\u001b[39;00mfile\u001b[38;5;132;01m}\u001b[39;00m\u001b[38;5;124m by default \u001b[39m\u001b[38;5;124m\"\u001b[39m\n\u001b[0;32m    282\u001b[0m         \u001b[38;5;124m\"\u001b[39m\u001b[38;5;124mas it is likely to crash IPython. If you know what you are doing, \u001b[39m\u001b[38;5;124m\"\u001b[39m\n\u001b[0;32m    283\u001b[0m         \u001b[38;5;124m\"\u001b[39m\u001b[38;5;124myou can use builtins\u001b[39m\u001b[38;5;124m'\u001b[39m\u001b[38;5;124m open.\u001b[39m\u001b[38;5;124m\"\u001b[39m\n\u001b[0;32m    284\u001b[0m     )\n\u001b[1;32m--> 286\u001b[0m \u001b[38;5;28;01mreturn\u001b[39;00m io_open(file, \u001b[38;5;241m*\u001b[39margs, \u001b[38;5;241m*\u001b[39m\u001b[38;5;241m*\u001b[39mkwargs)\n",
      "\u001b[1;31mFileNotFoundError\u001b[0m: [Errno 2] No such file or directory: 'example1.txt'"
     ]
    }
   ],
   "source": [
    "main = MainBranch(\"guhan_branch\",\"guhanesh\",\"digital ninjas\")\n",
    "main.add(\"example1.txt\") #/content/example1.txt\n",
    "main.add(\"example2.txt\")"
   ]
  },
  {
   "cell_type": "code",
   "execution_count": 5,
   "metadata": {
    "colab": {
     "base_uri": "https://localhost:8080/"
    },
    "id": "K5Xe7LuPvAOu",
    "outputId": "d40ccc9b-dfbd-4c14-8424-2d798746f684"
   },
   "outputs": [
    {
     "name": "stdout",
     "output_type": "stream",
     "text": [
      "Complete this challenge to proceed: What is 1 + 3?\n",
      "Enter your response: 4\n",
      "Challenge passed. Please wait...\n",
      "Tampering initiated...\n",
      "Old root hash: 0e54850ad3660b6aaac37eed6c8da35644a62169600c401888f6fc3507e5aa87\n",
      "file example1.txt removed\n",
      "file example1.txt not found\n",
      "file example2.txt added\n",
      "New root hash: b890e555e6f9c02661bc4a6c2793dac2ff2d01e3ddb35c1d3f0d2b62446f1195\n",
      "Tampering completed.\n"
     ]
    }
   ],
   "source": [
    "main.tamper(\"example1.txt\",\"example2.txt\")"
   ]
  },
  {
   "cell_type": "markdown",
   "metadata": {
    "id": "1yuLhR2OuKQu"
   },
   "source": [
    "*adding a directory and commit*"
   ]
  },
  {
   "cell_type": "code",
   "execution_count": 6,
   "metadata": {
    "colab": {
     "base_uri": "https://localhost:8080/"
    },
    "id": "FbMBtvaSuKQu",
    "outputId": "a3aa9a09-2a46-4af5-b003-39bb34ef98ad"
   },
   "outputs": [
    {
     "name": "stdout",
     "output_type": "stream",
     "text": [
      "directory is being added\n",
      "file example2.txt added\n",
      "file example1.txt added\n"
     ]
    }
   ],
   "source": [
    "main.add([\"example2.txt\",\"example1.txt\"])\n",
    "\n",
    "\n"
   ]
  },
  {
   "cell_type": "markdown",
   "metadata": {
    "id": "6IwHGYnFuKQv"
   },
   "source": [
    "*display commits*"
   ]
  },
  {
   "cell_type": "code",
   "execution_count": 7,
   "metadata": {
    "colab": {
     "base_uri": "https://localhost:8080/"
    },
    "id": "RVWkbydZuKQv",
    "outputId": "fcc46370-e97e-4c70-9295-f4addb1a4f2d"
   },
   "outputs": [
    {
     "name": "stdout",
     "output_type": "stream",
     "text": [
      "comments: commit 1\n",
      "branch guhan_branch commited\n"
     ]
    }
   ],
   "source": [
    "main.commit()\n"
   ]
  },
  {
   "cell_type": "code",
   "execution_count": 8,
   "metadata": {
    "colab": {
     "base_uri": "https://localhost:8080/"
    },
    "id": "snjePSyjuKQv",
    "outputId": "52105b9c-b900-4f8a-a6ab-ecfa2a0cc9d1"
   },
   "outputs": [
    {
     "name": "stdout",
     "output_type": "stream",
     "text": [
      "commit 1 root : fe59732373d135a8fd3a7ad8e2fede6a9b3bae87f4aba285fc1c85930b913ccf \n"
     ]
    }
   ],
   "source": [
    "main.showcommit()"
   ]
  },
  {
   "cell_type": "markdown",
   "metadata": {
    "id": "1bHfKxIuuKQv"
   },
   "source": [
    "*get access codes to branch the main*"
   ]
  },
  {
   "cell_type": "code",
   "execution_count": null,
   "metadata": {
    "colab": {
     "base_uri": "https://localhost:8080/"
    },
    "id": "Neu2STAouKQv",
    "outputId": "89b939ee-3905-479b-e018-a836a8551c56"
   },
   "outputs": [
    {
     "name": "stdout",
     "output_type": "stream",
     "text": [
      "team access code: digital ninjas\n",
      "admin access code: guhanesh\n",
      "enter your team member access code: \n",
      "Nonedigital ninjas\n",
      "abhishek_branch created\n",
      "do you want to clone the main branch? Y/N\n",
      "NoneY\n",
      "cloning the main branch\n",
      "file example1.txt added\n",
      "file example2.txt added\n",
      "file example2.txt added\n",
      "directory is being added\n",
      "file example2.txt added\n",
      "file example1.txt added\n",
      "directory is being added\n",
      "file example2.txt added\n",
      "file example1.txt added\n",
      "branch abhishek_branch created on main branch guhan_branch\n"
     ]
    }
   ],
   "source": [
    "main.getaccesscodes()\n",
    "abhishekbranch=branchit(main,\"abhishek_branch\")"
   ]
  },
  {
   "cell_type": "code",
   "execution_count": null,
   "metadata": {
    "colab": {
     "base_uri": "https://localhost:8080/"
    },
    "id": "-2h7PxsXuKQv",
    "outputId": "c9401b1e-4583-4565-8f39-d68ace67ebf3"
   },
   "outputs": [
    {
     "name": "stdout",
     "output_type": "stream",
     "text": [
      "['first commit added 3 files']\n"
     ]
    }
   ],
   "source": [
    "main.history()"
   ]
  },
  {
   "cell_type": "markdown",
   "metadata": {
    "id": "U-NDxif0uKQv"
   },
   "source": [
    "*show the branch*"
   ]
  },
  {
   "cell_type": "code",
   "execution_count": null,
   "metadata": {
    "colab": {
     "base_uri": "https://localhost:8080/"
    },
    "id": "04D4PcLbuKQv",
    "outputId": "0d9c8cec-c3fb-4e82-a11b-b7a92cf45473"
   },
   "outputs": [
    {
     "name": "stdout",
     "output_type": "stream",
     "text": [
      "6f02c7b0b483665efc2a7633e8c523d9e72d3e17c4df1778d06f26baad778179\n"
     ]
    }
   ],
   "source": [
    "b=main.showbranch()\n",
    "print(b.merkle_tree.root.hash)"
   ]
  },
  {
   "cell_type": "code",
   "execution_count": null,
   "metadata": {
    "colab": {
     "base_uri": "https://localhost:8080/"
    },
    "id": "zO4dzHNnuKQv",
    "outputId": "fc868c6b-1c36-4eb7-9da7-cf4e1a34d531"
   },
   "outputs": [
    {
     "name": "stdout",
     "output_type": "stream",
     "text": [
      "do you want to merge the branches as admin? Y/N\n",
      "NoneY\n",
      "enter your admin access code: \n",
      "Noneguhanesh\n",
      "comments: first commit from branch by admin\n",
      "branch guhan_branch commited\n",
      "comments: commit branch in branch\n",
      "branch guhan_branch commited\n",
      "branch abhishek_branch merged to main guhan_branch and commited\n"
     ]
    }
   ],
   "source": [
    "mergeit(main,abhishekbranch)"
   ]
  },
  {
   "cell_type": "code",
   "execution_count": null,
   "metadata": {
    "colab": {
     "base_uri": "https://localhost:8080/"
    },
    "id": "_AWEkfvtxr3i",
    "outputId": "59f2d96a-8a44-484a-fdcf-7f905f0c9035"
   },
   "outputs": [
    {
     "name": "stdout",
     "output_type": "stream",
     "text": [
      "['first commit added 3 files', 'first commit from branch by admin', 'commit branch in branch']\n"
     ]
    }
   ],
   "source": [
    "main.history()"
   ]
  }
 ],
 "metadata": {
  "colab": {
   "provenance": []
  },
  "kernelspec": {
   "display_name": "Python 3 (ipykernel)",
   "language": "python",
   "name": "python3"
  },
  "language_info": {
   "codemirror_mode": {
    "name": "ipython",
    "version": 3
   },
   "file_extension": ".py",
   "mimetype": "text/x-python",
   "name": "python",
   "nbconvert_exporter": "python",
   "pygments_lexer": "ipython3",
   "version": "3.11.5"
  }
 },
 "nbformat": 4,
 "nbformat_minor": 1
}
